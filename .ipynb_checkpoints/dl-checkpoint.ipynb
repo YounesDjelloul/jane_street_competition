{
 "cells": [
  {
   "cell_type": "code",
   "execution_count": null,
   "id": "aa6b30f3-ff93-4c38-9539-3925db9d0a1f",
   "metadata": {},
   "outputs": [],
   "source": [
    "import polars as pl\n",
    "import pandas as pd\n",
    "import numpy as np\n",
    "import matplotlib.pyplot as plt"
   ]
  },
  {
   "cell_type": "code",
   "execution_count": null,
   "id": "9ea96804-568b-4b6e-9ab1-e76fb46c9133",
   "metadata": {},
   "outputs": [],
   "source": [
    "df = pl.read_parquet(\"./dataset/train.parquet/partitions/*.parquet\")"
   ]
  },
  {
   "cell_type": "code",
   "execution_count": null,
   "id": "17245770-5ab4-4f76-867f-ffea1cc0a71c",
   "metadata": {},
   "outputs": [],
   "source": [
    "print(\"Dataset shape:\", df.shape)\n",
    "print(\"\\nMissing values:\")\n",
    "print(df.null_count())\n",
    "\n",
    "# Basic statistics for responder_6\n",
    "print(\"\\nTarget variable (responder_6) statistics:\")\n",
    "print(df.select('responder_6').describe())"
   ]
  },
  {
   "cell_type": "code",
   "execution_count": null,
   "id": "e3935e37-dc81-4344-b56c-2b7c78282994",
   "metadata": {},
   "outputs": [],
   "source": [
    "df_pd = df.to_pandas()\n",
    "\n",
    "# Calculate correlations with target\n",
    "correlations = df_pd[['responder_6'] + [f'feature_{i:02d}' for i in range(79)]].corr()['responder_6'].sort_values(\n",
    "    ascending=False)\n",
    "print(\"\\nTop 10 correlated features with responder_6:\")\n",
    "print(correlations.head(11))"
   ]
  },
  {
   "cell_type": "code",
   "execution_count": null,
   "id": "62d0c16b-2e4e-485e-a8fa-e0a3cae0a7de",
   "metadata": {},
   "outputs": [],
   "source": [
    "plt.figure(figsize=(10, 6))\n",
    "plt.hist(df_pd['responder_6'], bins=50)\n",
    "plt.title('Distribution of responder_6')\n",
    "plt.xlabel('Value')\n",
    "plt.ylabel('Frequency')\n",
    "plt.show()"
   ]
  }
 ],
 "metadata": {
  "kernelspec": {
   "display_name": "Python 3 (ipykernel)",
   "language": "python",
   "name": "python3"
  },
  "language_info": {
   "codemirror_mode": {
    "name": "ipython",
    "version": 3
   },
   "file_extension": ".py",
   "mimetype": "text/x-python",
   "name": "python",
   "nbconvert_exporter": "python",
   "pygments_lexer": "ipython3",
   "version": "3.12.7"
  }
 },
 "nbformat": 4,
 "nbformat_minor": 5
}
