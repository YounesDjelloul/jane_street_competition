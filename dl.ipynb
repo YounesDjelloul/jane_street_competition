{
 "cells": [
  {
   "cell_type": "code",
   "execution_count": 7,
   "id": "aa6b30f3-ff93-4c38-9539-3925db9d0a1f",
   "metadata": {},
   "outputs": [],
   "source": [
    "import polars as pl\n",
    "import pandas as pd\n",
    "import numpy as np\n",
    "import matplotlib.pyplot as plt\n",
    "import torch\n",
    "from torch.utils.data import Dataset, DataLoader"
   ]
  },
  {
   "cell_type": "code",
   "execution_count": 9,
   "id": "9ea96804-568b-4b6e-9ab1-e76fb46c9133",
   "metadata": {},
   "outputs": [],
   "source": [
    "datasets_path = \"./dataset/train.parquet/partitions/*.parquet\" \n",
    "df_lazy = pl.scan_parquet(datasets_path)"
   ]
  },
  {
   "cell_type": "code",
   "execution_count": 5,
   "id": "dfd084cf-9530-4b5b-9a47-7129dd1e78f2",
   "metadata": {
    "collapsed": true,
    "jupyter": {
     "outputs_hidden": true
    }
   },
   "outputs": [
    {
     "name": "stdout",
     "output_type": "stream",
     "text": [
      "Basic statistics for responder_6:\n",
      "shape: (1, 7)\n",
      "┌───────────┬──────────┬──────┬─────┬───────────┬───────────┬──────────┐\n",
      "│ mean      ┆ std      ┆ min  ┆ max ┆ 25%       ┆ 50%       ┆ 75%      │\n",
      "│ ---       ┆ ---      ┆ ---  ┆ --- ┆ ---       ┆ ---       ┆ ---      │\n",
      "│ f32       ┆ f32      ┆ f32  ┆ f32 ┆ f32       ┆ f32       ┆ f32      │\n",
      "╞═══════════╪══════════╪══════╪═════╪═══════════╪═══════════╪══════════╡\n",
      "│ -0.002141 ┆ 0.889852 ┆ -5.0 ┆ 5.0 ┆ -0.382761 ┆ -0.025566 ┆ 0.334321 │\n",
      "└───────────┴──────────┴──────┴─────┴───────────┴───────────┴──────────┘\n",
      "\n",
      "Top 10 correlated features with responder_6:\n",
      "feature_06: -0.0467\n",
      "feature_04: -0.0316\n",
      "feature_07: -0.0302\n",
      "feature_36: -0.0231\n",
      "feature_60: 0.0189\n",
      "feature_45: -0.0169\n",
      "feature_56: -0.0165\n",
      "feature_05: -0.0163\n",
      "feature_51: 0.0152\n",
      "feature_19: -0.0140\n",
      "\n",
      "Null counts:\n",
      "shape: (1, 92)\n",
      "┌─────────┬─────────┬───────────┬────────┬───┬─────────────┬─────────────┬─────────────┬─────────────┐\n",
      "│ date_id ┆ time_id ┆ symbol_id ┆ weight ┆ … ┆ responder_5 ┆ responder_6 ┆ responder_7 ┆ responder_8 │\n",
      "│ ---     ┆ ---     ┆ ---       ┆ ---    ┆   ┆ ---         ┆ ---         ┆ ---         ┆ ---         │\n",
      "│ u32     ┆ u32     ┆ u32       ┆ u32    ┆   ┆ u32         ┆ u32         ┆ u32         ┆ u32         │\n",
      "╞═════════╪═════════╪═══════════╪════════╪═══╪═════════════╪═════════════╪═════════════╪═════════════╡\n",
      "│ 0       ┆ 0       ┆ 0         ┆ 0      ┆ … ┆ 0           ┆ 0           ┆ 0           ┆ 0           │\n",
      "└─────────┴─────────┴───────────┴────────┴───┴─────────────┴─────────────┴─────────────┴─────────────┘\n"
     ]
    }
   ],
   "source": [
    "print(\"Basic statistics for responder_6:\")\n",
    "stats = df_lazy.select([\n",
    "    pl.col(\"responder_6\").mean().alias(\"mean\"),\n",
    "    pl.col(\"responder_6\").std().alias(\"std\"),\n",
    "    pl.col(\"responder_6\").min().alias(\"min\"),\n",
    "    pl.col(\"responder_6\").max().alias(\"max\"),\n",
    "    pl.col(\"responder_6\").quantile(0.25).alias(\"25%\"),\n",
    "    pl.col(\"responder_6\").quantile(0.50).alias(\"50%\"),\n",
    "    pl.col(\"responder_6\").quantile(0.75).alias(\"75%\")\n",
    "]).collect()\n",
    "print(stats)\n",
    "\n",
    "# For correlations with target, we can calculate them one by one\n",
    "# Let's get top correlated features\n",
    "feature_cors = []\n",
    "for feature in [f\"feature_{i:02d}\" for i in range(79)]:\n",
    "    cor = df_lazy.select(\n",
    "        pl.corr(\"responder_6\", feature).alias(\"correlation\")\n",
    "    ).collect().item()\n",
    "    feature_cors.append((feature, cor))\n",
    "\n",
    "# Sort and print top correlations\n",
    "feature_cors.sort(key=lambda x: abs(x[1]), reverse=True)\n",
    "print(\"\\nTop 10 correlated features with responder_6:\")\n",
    "for feature, cor in feature_cors[:10]:\n",
    "    print(f\"{feature}: {cor:.4f}\")\n",
    "\n",
    "# Get null counts\n",
    "print(\"\\nNull counts:\")\n",
    "null_counts = df_lazy.select([\n",
    "    pl.col(\"*\").null_count()\n",
    "]).collect()\n",
    "print(null_counts)"
   ]
  },
  {
   "cell_type": "code",
   "execution_count": 11,
   "id": "847767b1-d63c-4500-98c4-99fd833ff88a",
   "metadata": {},
   "outputs": [],
   "source": [
    "class FinancialDataset(Dataset):\n",
    "    def __init__(self, parquet_files, feature_cols=None):\n",
    "        self.lazy_df = pl.scan_parquet(parquet_files)\n",
    "        if feature_cols is None:\n",
    "            self.feature_cols = [f'feature_{i:02d}' for i in range(79)]\n",
    "        else:\n",
    "            self.feature_cols = feature_cols\n",
    "            \n",
    "        self.length = self.lazy_df.select(pl.count()).collect().item()\n",
    "        \n",
    "    def __len__(self):\n",
    "        return self.length\n",
    "    \n",
    "    def __getitem__(self, idx):\n",
    "        row = self.lazy_df.slice(idx, 1).collect()\n",
    "        \n",
    "        features = row.select(self.feature_cols).to_numpy().flatten()\n",
    "        target = row.select('responder_6').to_numpy().flatten()\n",
    "        \n",
    "        return torch.FloatTensor(features), torch.FloatTensor(target)\n",
    "\n",
    "class FinancialNN(torch.nn.Module):\n",
    "    def __init__(self, input_size=79):\n",
    "        super().__init__()\n",
    "        self.network = torch.nn.Sequential(\n",
    "            torch.nn.Linear(input_size, 256),\n",
    "            torch.nn.ReLU(),\n",
    "            torch.nn.Dropout(0.2),\n",
    "            torch.nn.Linear(256, 128),\n",
    "            torch.nn.ReLU(),\n",
    "            torch.nn.Dropout(0.2),\n",
    "            torch.nn.Linear(128, 64),\n",
    "            torch.nn.ReLU(),\n",
    "            torch.nn.Linear(64, 1)\n",
    "        )\n",
    "        \n",
    "    def forward(self, x):\n",
    "        return self.network(x)\n",
    "\n",
    "def train_model(model, train_loader, val_loader, epochs=10, lr=0.001):\n",
    "    device = torch.device('cuda' if torch.cuda.is_available() else 'cpu')\n",
    "    model = model.to(device)\n",
    "    criterion = torch.nn.MSELoss()\n",
    "    optimizer = torch.optim.Adam(model.parameters(), lr=lr)\n",
    "    \n",
    "    for epoch in range(epochs):\n",
    "        model.train()\n",
    "        train_loss = 0\n",
    "        for batch_features, batch_targets in train_loader:\n",
    "            batch_features, batch_targets = batch_features.to(device), batch_targets.to(device)\n",
    "            \n",
    "            optimizer.zero_grad()\n",
    "            outputs = model(batch_features)\n",
    "            loss = criterion(outputs, batch_targets)\n",
    "            loss.backward()\n",
    "            optimizer.step()\n",
    "            \n",
    "            train_loss += loss.item()\n",
    "            \n",
    "        model.eval()\n",
    "        val_loss = 0\n",
    "        with torch.no_grad():\n",
    "            for batch_features, batch_targets in val_loader:\n",
    "                batch_features, batch_targets = batch_features.to(device), batch_targets.to(device)\n",
    "                outputs = model(batch_features)\n",
    "                val_loss += criterion(outputs, batch_targets).item()\n",
    "                \n",
    "        print(f'Epoch {epoch+1}, Train Loss: {train_loss/len(train_loader):.4f}, Val Loss: {val_loss/len(val_loader):.4f}')\n",
    "    \n",
    "    return model"
   ]
  },
  {
   "cell_type": "code",
   "execution_count": null,
   "id": "08709007-022f-47ee-861a-93357349b294",
   "metadata": {},
   "outputs": [
    {
     "name": "stderr",
     "output_type": "stream",
     "text": [
      "C:\\Users\\Putrajaya-PC09\\AppData\\Local\\Temp\\ipykernel_13244\\701640121.py:9: DeprecationWarning: `pl.count()` is deprecated. Please use `pl.len()` instead.\n",
      "  self.length = self.lazy_df.select(pl.count()).collect().item()\n"
     ]
    }
   ],
   "source": [
    "dataset = FinancialDataset(datasets_path)\n",
    "\n",
    "train_size = int(0.8 * len(dataset))\n",
    "val_size = len(dataset) - train_size\n",
    "train_dataset, val_dataset = torch.utils.data.random_split(dataset, [train_size, val_size])\n",
    "\n",
    "train_loader = DataLoader(train_dataset, batch_size=1024, shuffle=True)\n",
    "val_loader = DataLoader(val_dataset, batch_size=1024)\n",
    "\n",
    "model = FinancialNN()\n",
    "trained_model = train_model(model, train_loader, val_loader)"
   ]
  }
 ],
 "metadata": {
  "kernelspec": {
   "display_name": "Python 3 (ipykernel)",
   "language": "python",
   "name": "python3"
  },
  "language_info": {
   "codemirror_mode": {
    "name": "ipython",
    "version": 3
   },
   "file_extension": ".py",
   "mimetype": "text/x-python",
   "name": "python",
   "nbconvert_exporter": "python",
   "pygments_lexer": "ipython3",
   "version": "3.12.7"
  }
 },
 "nbformat": 4,
 "nbformat_minor": 5
}
